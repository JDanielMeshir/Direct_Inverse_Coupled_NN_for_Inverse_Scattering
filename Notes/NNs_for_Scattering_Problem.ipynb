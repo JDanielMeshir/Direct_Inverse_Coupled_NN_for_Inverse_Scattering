{
  "nbformat": 4,
  "nbformat_minor": 0,
  "metadata": {
    "colab": {
      "provenance": []
    },
    "kernelspec": {
      "name": "python3",
      "display_name": "Python 3"
    },
    "language_info": {
      "name": "python"
    }
  },
  "cells": [
    {
      "cell_type": "markdown",
      "source": [
        "# A direct-then-inverse coupled artificial neural network for the acoustic inverse scattering problem"
      ],
      "metadata": {
        "id": "8WVskEF4tSUu"
      }
    },
    {
      "cell_type": "markdown",
      "source": [
        "In this notes, we will explore the online step of the inverse problem across various test cases, demonstrating the performance of our model."
      ],
      "metadata": {
        "id": "da2PVajHNAai"
      }
    },
    {
      "cell_type": "code",
      "source": [
        "# -*- coding: utf-8 -*-\n",
        "\"\"\"NN_pythorch.ipynb\n",
        "by JDMV\n",
        "\"\"\"\n",
        "\n",
        "#import packages\n",
        "import torch\n",
        "import numpy as np\n",
        "import pandas as pd\n",
        "import matplotlib.pyplot as plt\n",
        "from collections import OrderedDict\n",
        "\n",
        "import time\n",
        "\n",
        "# fixed the random seed\n",
        "np.random.seed(73)\n",
        "\n",
        "\n",
        "# CUDA support\n",
        "if torch.cuda.is_available():\n",
        "    device = torch.device('cuda')\n",
        "else:\n",
        "    device = torch.device('cpu')\n",
        "\n",
        "print(device)"
      ],
      "metadata": {
        "colab": {
          "base_uri": "https://localhost:8080/"
        },
        "id": "w8zmj4s7E4pv",
        "outputId": "452e26be-081a-468a-88df-adaa1d563076"
      },
      "execution_count": 1,
      "outputs": [
        {
          "output_type": "stream",
          "name": "stdout",
          "text": [
            "cpu\n"
          ]
        }
      ]
    },
    {
      "cell_type": "markdown",
      "source": [
        "We loaded two neural networks (NNs) in `Coupled_NNs`: DNN, the direct NN trained in the offline step, and INN, the inverse NN that will be trained in the online step.\n",
        "\n",
        "Recall that the direct NN was trained with four different shapes: Circles, Ellipses, Kites, and Virus shapes. Therefore, if you need to reconstruct another shape, the direct NN must be retrained to learn the far-field pattern of that specific boundary form.\n",
        "\n",
        "The offline step involves the trained neural network $\\mathcal{D$}, which maps boundary points to their corresponding far-field pattern measurements. We also selected 64 evenly spaced incident wave directions for the training data. Consequently, for each shape, we created 64 'X' data samples, with each sample represented as a vector. The first component of each vector indicates the incident wave's angle direction, while the remaining 128 components represent the 64 boundary points, with both x and y coordinates included. As a result, the 'X' data has a shape of (64000, 129).\n",
        "\n",
        "On the other hand, we used the Nystrom method to generate the associated far-field patterns for each 'X' data sample. These far-field pattern measurements are stored in the 'Y' vector, which has a shape of (64000, 128). In this case, the number 128 represents the 64 measurements of the far-field pattern, including both real and imaginary parts for each direction.\n",
        "\n",
        "In the online step, we will use the inverse NN (INN). There are two representations: the Fourier series representation, where the loss function to find the coefficients is given by\n",
        "\n",
        "\\begin{equation}\n",
        "J(W,b;t,u_\\infty) = \\frac{1}{2}\\sum_{i=1}^M || u_\\infty^i-\\mathcal{D}(T(\\mathcal{I}(t)),d^i)||^2+\\lambda_1\\sum_{j=1}^q j^2(\\mathcal{I}j^2(t)+\\mathcal{I}{j+q}^2(t))+\\lambda_2 |\\mathcal{I}_0(t)|.\n",
        "\\end{equation}\n",
        "\n",
        "where the outputs of the NN $\\mathcal{I}$ are the coefficients of the Fourier series.\n",
        "\n",
        "The other representation is the cosine series, where the loss function to find the coefficients is as follows:\n",
        "\n",
        "\\begin{equation}\n",
        "J(W,b;t,u_\\infty) = \\frac{1}{2}\\sum_{i=1}^M || u_\\infty^i-\\mathcal{D}(C(\\mathcal{I}(t)),d^i)||^2.\n",
        "\\end{equation}\n",
        "\n"
      ],
      "metadata": {
        "id": "4cSXj_qjtaeM"
      }
    },
    {
      "cell_type": "code",
      "source": [
        "import sys\n",
        "# caution: path[0] is reserved for script path (or '' in REPL)\n",
        "sys.path.append('./Coupled_NNs')\n",
        "sys.path.append('./Data_for_figures')\n",
        "\n",
        "from CDINN import *\n"
      ],
      "metadata": {
        "id": "1kpMvKeQtQhs"
      },
      "execution_count": 2,
      "outputs": []
    },
    {
      "cell_type": "markdown",
      "source": [
        "There are five different cases to test our model.\n",
        "\n",
        "Then we load the test case."
      ],
      "metadata": {
        "id": "wSK7mmw0wCi-"
      }
    },
    {
      "cell_type": "code",
      "source": [
        "#Load the data\n",
        "torch.manual_seed(73)\n",
        "np.random.seed(73)\n",
        "\n",
        "\n",
        "#Load the far-field pattern with 64 measurements, split into real and imaginary parts.\n",
        "# with this far-field patter we will to reconstruc the shape in the online step\n",
        "i=3\n",
        "testcase=np.load(f'./Data_for_figures/u_inf_Case{i}.npy')\n",
        "\n",
        "\n",
        "\n",
        "#Load the real boundary\n",
        "boundarytest=np.load(f'./Data_for_figures/boundarytestcase{i}.npy')\n",
        "\n",
        "\n"
      ],
      "metadata": {
        "id": "tEIjfMBR2Bix"
      },
      "execution_count": 8,
      "outputs": []
    },
    {
      "cell_type": "markdown",
      "source": [
        "We can choose the number of incident wave directions with the variable npts. We can also add Gaussian noise to our test case."
      ],
      "metadata": {
        "id": "NICk5E9BLH7Q"
      }
    },
    {
      "cell_type": "code",
      "source": [
        "# Number of incident wave directions. (Maximum 64)\n",
        "npts=8\n",
        "\n",
        "directions=np.linspace(0,2.0*np.pi*(npts-1.0)/npts,npts,endpoint=True)\n",
        "ds=directions.shape\n",
        "directions=directions.reshape(ds[0],1)\n",
        "\n",
        "t=np.linspace(0,2.0*np.pi*(64-1.0)/64,64,endpoint=True)\n",
        "\n",
        "params=np.array([t for  i in range(len(directions))])\n",
        "\n",
        "\n",
        "# add noise to the far-field pattern data.\n",
        "sigma_ruido=0.01*max(abs(testcase[0])) # 1% of noise\n",
        "\n",
        "testcase_noise=testcase +np.random.normal(0,sigma_ruido,(64,128))\n",
        "\n",
        "#We select the far field pattern for each direction of incidence\n",
        "\n",
        "testcase_noise=testcase_noise[::int(64/npts)]\n",
        "\n"
      ],
      "metadata": {
        "id": "5XPD8Ieu58m4"
      },
      "execution_count": 9,
      "outputs": []
    },
    {
      "cell_type": "markdown",
      "source": [
        "We can set the inverse NN with INN class. So we can test different number of neurons, layers, activation function and choice of form representation."
      ],
      "metadata": {
        "id": "vuUc9jrlMCJR"
      }
    },
    {
      "cell_type": "code",
      "source": [
        "%%time\n",
        "# Set our inverse NN\n",
        "# The last layer contains the number of parameters to be recovered for the display form.\n",
        "\n",
        "layers=[64,64,128,64,10] #11 [a_0,...,a_5,b_1,...,b5,h,k]\n",
        "activations=[torch.nn.Tanh,torch.nn.Tanh,torch.nn.Tanh,torch.nn.Identity]\n",
        "\n",
        "inverse_NN=INN(layers,activations)\n",
        "\n",
        "#Online step. We can choose the form of representation (cosine or Fourier series)\n",
        "\n",
        "\n",
        "inverse_NN.train(params,testcase_noise,directions,representation='Cosine_series',\n",
        "                 lamb1=0,lamb2=0)\n",
        "\n"
      ],
      "metadata": {
        "colab": {
          "base_uri": "https://localhost:8080/"
        },
        "id": "h79HFDuk-pzv",
        "outputId": "50953be5-c005-4db9-b7ed-eabe0fd9a823"
      },
      "execution_count": 10,
      "outputs": [
        {
          "output_type": "stream",
          "name": "stdout",
          "text": [
            "Iter 10, Loss: 1.34768e-02\n",
            "Iter 20, Loss: 9.62577e-03\n",
            "Iter 30, Loss: 9.34014e-03\n",
            "Iter 40, Loss: 6.11144e-03\n",
            "Iter 50, Loss: 2.11960e-03\n",
            "Iter 60, Loss: 3.57096e-04\n",
            "Iter 70, Loss: 1.14082e-04\n",
            "Iter 80, Loss: 1.13665e-04\n",
            "CPU times: user 736 ms, sys: 10.3 ms, total: 747 ms\n",
            "Wall time: 750 ms\n"
          ]
        }
      ]
    },
    {
      "cell_type": "markdown",
      "source": [
        "Finally, we are ready to plot the results:"
      ],
      "metadata": {
        "id": "r-7Iv1ECM0Sa"
      }
    },
    {
      "cell_type": "code",
      "source": [
        "coeficients_predicted,boundary_predicted=inverse_NN.predict(params)\n",
        "\n",
        "plt.plot(boundary_predicted[:,0],boundary_predicted[:,1],'^-',color='dimgray',\n",
        "         label='Shape predicted')\n",
        "\n",
        "\n",
        "plt.plot(boundarytest[1::2],boundarytest[2::2],'o-',color='black',\n",
        "         label='real shape',markersize=2.5)\n",
        "\n",
        "plt.axis('equal')\n",
        "plt.legend()\n",
        "plt.show()"
      ],
      "metadata": {
        "colab": {
          "base_uri": "https://localhost:8080/",
          "height": 447
        },
        "id": "z2dQ19k9ABXY",
        "outputId": "6209bf6f-9cc0-43e1-8b35-a3493c01c2e8"
      },
      "execution_count": 11,
      "outputs": [
        {
          "output_type": "display_data",
          "data": {
            "text/plain": [
              "<Figure size 640x480 with 1 Axes>"
            ],
            "image/png": "[encoded data removed]"
          },
          "metadata": {}
        }
      ]
    }
  ]
}